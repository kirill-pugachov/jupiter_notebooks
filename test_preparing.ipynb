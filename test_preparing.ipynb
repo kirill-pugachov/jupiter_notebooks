{
 "cells": [
  {
   "cell_type": "code",
   "execution_count": 3,
   "metadata": {
    "collapsed": false
   },
   "outputs": [
    {
     "name": "stdout",
     "output_type": "stream",
     "text": [
      "Вы внутри функции hi()\n",
      "Вы внутри функции greet()\n",
      "Вы внутри функции welcome()\n",
      "Вы внутри функции hi()\n"
     ]
    }
   ],
   "source": [
    "def hi(name=\"yasoob\"):\n",
    "    print(\"Вы внутри функции hi()\")\n",
    "\n",
    "    def greet():\n",
    "        return \"Вы внутри функции greet()\"\n",
    "\n",
    "    def welcome():\n",
    "        return \"Вы внутри функции welcome()\"\n",
    "\n",
    "    print(greet())\n",
    "    print(welcome())\n",
    "    print(\"Вы внутри функции hi()\")\n",
    "hi()"
   ]
  },
  {
   "cell_type": "code",
   "execution_count": 4,
   "metadata": {
    "collapsed": false
   },
   "outputs": [
    {
     "name": "stdout",
     "output_type": "stream",
     "text": [
      "<function hi.<locals>.greet at 0x04355858>\n",
      "Вы внутри функции greet()\n"
     ]
    }
   ],
   "source": [
    "def hi(name=\"yasoob\"):\n",
    "    def greet():\n",
    "        return \"Вы внутри функции greet()\"\n",
    "\n",
    "    def welcome():\n",
    "        return \"Вы внутри функции welcome()\"\n",
    "\n",
    "    if name == \"yasoob\":\n",
    "        return greet\n",
    "    else:\n",
    "        return welcome\n",
    "\n",
    "a = hi()\n",
    "print(a)\n",
    "# Вывод: <function greet at 0x7f2143c01500>\n",
    "\n",
    "# Это наглядно демонстрирует, что переменная `a` теперь указывает на\n",
    "# функцию greet() в функции hi(). Теперь попробуйте вот это\n",
    "\n",
    "print(a())\n",
    "# Вывод: Вы внутри функции greet()"
   ]
  },
  {
   "cell_type": "code",
   "execution_count": 5,
   "metadata": {
    "collapsed": false
   },
   "outputs": [
    {
     "name": "stdout",
     "output_type": "stream",
     "text": [
      "Я делаю что-то скучное перед исполнением hi()\n",
      "Привет yasoob!\n"
     ]
    }
   ],
   "source": [
    "def hi():\n",
    "    return \"Привет yasoob!\"\n",
    "\n",
    "def doSomethingBeforeHi(func):\n",
    "    print(\"Я делаю что-то скучное перед исполнением hi()\")\n",
    "    print(func())\n",
    "\n",
    "doSomethingBeforeHi(hi)\n",
    "# Вывод: Я делаю что-то скучное перед исполнением hi()\n",
    "#        Привет yasoob!"
   ]
  },
  {
   "cell_type": "code",
   "execution_count": 11,
   "metadata": {
    "collapsed": false
   },
   "outputs": [
    {
     "name": "stdout",
     "output_type": "stream",
     "text": [
      "24\n"
     ]
    }
   ],
   "source": [
    "from functools import reduce\n",
    "product = reduce((lambda x, y: x * y), [1, 2, 3, 4])\n",
    "print(product)"
   ]
  },
  {
   "cell_type": "code",
   "execution_count": 18,
   "metadata": {
    "collapsed": false
   },
   "outputs": [
    {
     "name": "stdout",
     "output_type": "stream",
     "text": [
      "[1, 2, 3, 4, 5]\n"
     ]
    }
   ],
   "source": [
    "number_list = range(-5, 6)\n",
    "less_than_zero = list(filter(lambda x: x > 0, number_list))\n",
    "print(less_than_zero)"
   ]
  },
  {
   "cell_type": "code",
   "execution_count": 34,
   "metadata": {
    "collapsed": false
   },
   "outputs": [
    {
     "name": "stdout",
     "output_type": "stream",
     "text": [
      "[-27000, -24389, -21952, -19683, -17576, -15625, -13824, -12167, -10648, -9261, -8000, -6859, -5832, -4913, -4096, -3375, -2744, -2197, -1728, -1331, -1000, -729, -512, -343, -216, -125, -64, -27, -8, -1, 0, 1, 8, 27, 64, 125, 216, 343, 512, 729, 1000, 1331, 1728, 2197, 2744, 3375, 4096, 4913, 5832, 6859, 8000, 9261, 10648, 12167, 13824, 15625, 17576, 19683, 21952, 24389]\n"
     ]
    },
    {
     "data": {
      "image/png": "[encoded data removed]",
      "text/plain": [
       "<matplotlib.figure.Figure at 0x6394d50>"
      ]
     },
     "metadata": {},
     "output_type": "display_data"
    }
   ],
   "source": [
    "items = range(-30,30, 1)\n",
    "squared = list(map(lambda x: x**3, items))\n",
    "print(squared)\n",
    "import matplotlib.pyplot as plt\n",
    "plt.plot(items, squared)\n",
    "plt.ylabel('numbers**2')\n",
    "plt.xlabel('income numbers')\n",
    "plt.show()"
   ]
  }
 ],
 "metadata": {
  "anaconda-cloud": {},
  "kernelspec": {
   "display_name": "Python [conda root]",
   "language": "python",
   "name": "conda-root-py"
  },
  "language_info": {
   "codemirror_mode": {
    "name": "ipython",
    "version": 3
   },
   "file_extension": ".py",
   "mimetype": "text/x-python",
   "name": "python",
   "nbconvert_exporter": "python",
   "pygments_lexer": "ipython3",
   "version": "3.5.2"
  }
 },
 "nbformat": 4,
 "nbformat_minor": 1
}
